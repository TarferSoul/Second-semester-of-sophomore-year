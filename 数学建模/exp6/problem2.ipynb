{
 "cells": [
  {
   "cell_type": "code",
   "outputs": [],
   "source": [
    "import torch\n",
    "import torch.nn as nn\n",
    "import torch.optim as optim\n",
    "import numpy as np\n",
    "from sklearn.model_selection import train_test_split"
   ],
   "metadata": {
    "collapsed": false,
    "ExecuteTime": {
     "end_time": "2024-05-21T01:18:29.472732300Z",
     "start_time": "2024-05-21T01:18:29.459695700Z"
    }
   },
   "id": "266e24c45d285922",
   "execution_count": 70
  },
  {
   "cell_type": "code",
   "outputs": [
    {
     "name": "stdout",
     "output_type": "stream",
     "text": [
      "[[0. 0. 0. ... 0. 0. 0.]\n",
      " [0. 5. 0. ... 0. 0. 0.]\n",
      " [0. 0. 0. ... 0. 0. 0.]\n",
      " ...\n",
      " [0. 0. 0. ... 0. 0. 0.]\n",
      " [0. 0. 0. ... 0. 0. 0.]\n",
      " [0. 3. 0. ... 0. 0. 0.]]\n"
     ]
    }
   ],
   "source": [
    "data = np.genfromtxt(\"L6/影片评分数据.dat\", delimiter='::', dtype=int)\n",
    "\n",
    "user_ids = data[:, 0]\n",
    "movie_ids = data[:, 1]\n",
    "ratings = data[:, 2]\n",
    "\n",
    "# 获取用户ID和影片ID的范围\n",
    "num_users = np.max(user_ids) + 1\n",
    "num_movies = np.max(movie_ids) + 1\n",
    "\n",
    "ratings_matrix = np.zeros((num_users, num_movies))\n",
    "for i in range(len(user_ids)):\n",
    "    user_id = user_ids[i]\n",
    "    movie_id = movie_ids[i]\n",
    "    rating = ratings[i]\n",
    "    ratings_matrix[user_id, movie_id] = rating\n",
    "\n",
    "print(ratings_matrix)"
   ],
   "metadata": {
    "collapsed": false,
    "ExecuteTime": {
     "end_time": "2024-05-21T01:18:32.396676300Z",
     "start_time": "2024-05-21T01:18:29.466697500Z"
    }
   },
   "id": "41fab21584ed7c42",
   "execution_count": 71
  },
  {
   "cell_type": "code",
   "execution_count": 72,
   "outputs": [
    {
     "name": "stdout",
     "output_type": "stream",
     "text": [
      "Using device: cuda\n"
     ]
    }
   ],
   "source": [
    "device = torch.device(\"cuda\" if torch.cuda.is_available() else \"cpu\")\n",
    "print(f\"Using device: {device}\")"
   ],
   "metadata": {
    "collapsed": false,
    "ExecuteTime": {
     "end_time": "2024-05-21T01:18:32.430362200Z",
     "start_time": "2024-05-21T01:18:32.398678600Z"
    }
   }
  },
  {
   "cell_type": "code",
   "outputs": [],
   "source": [
    "# 找出评分不为0的索引\n",
    "nonzero_indices = np.nonzero(ratings_matrix)\n",
    "\n",
    "# 划分训练集和验证集\n",
    "train_indices, val_indices = train_test_split(np.arange(len(nonzero_indices[0])), test_size=0.2, random_state=1)\n",
    "\n",
    "train_user_ids = nonzero_indices[0][train_indices]\n",
    "train_movie_ids = nonzero_indices[1][train_indices]\n",
    "train_ratings = ratings_matrix[nonzero_indices][train_indices]\n",
    "\n",
    "val_user_ids = nonzero_indices[0][val_indices]\n",
    "val_movie_ids = nonzero_indices[1][val_indices]\n",
    "val_ratings = ratings_matrix[nonzero_indices][val_indices]\n",
    "\n",
    "# 转换为PyTorch Tensor\n",
    "train_user_ids_tensor = torch.LongTensor(train_user_ids).to(device)\n",
    "train_movie_ids_tensor = torch.LongTensor(train_movie_ids).to(device)\n",
    "train_ratings_tensor = torch.tensor(train_ratings).float().to(device)\n",
    "\n",
    "val_user_ids_tensor = torch.LongTensor(val_user_ids).to(device)\n",
    "val_movie_ids_tensor = torch.LongTensor(val_movie_ids).to(device)\n",
    "val_ratings_tensor = torch.tensor(val_ratings).float().to(device)\n"
   ],
   "metadata": {
    "collapsed": false,
    "ExecuteTime": {
     "end_time": "2024-05-21T01:18:32.632360700Z",
     "start_time": "2024-05-21T01:18:32.414990500Z"
    }
   },
   "id": "2bc0b5354010f4c4",
   "execution_count": 73
  },
  {
   "cell_type": "code",
   "outputs": [],
   "source": [
    "# 定义MF模型\n",
    "class MatrixFactorization(nn.Module):\n",
    "    def __init__(self, num_users, num_movies, num_factors):\n",
    "        super(MatrixFactorization, self).__init__()\n",
    "        self.user_factors = nn.Embedding(num_users, num_factors)\n",
    "        self.movie_factors = nn.Embedding(num_movies, num_factors)\n",
    "        self.user_biases = nn.Embedding(num_users, 1)\n",
    "        self.movie_biases = nn.Embedding(num_movies, 1)\n",
    "\n",
    "        # 初始化参数\n",
    "        self.user_factors.weight.data.uniform_(0, 0.05)\n",
    "        self.movie_factors.weight.data.uniform_(0, 0.05)\n",
    "        self.user_biases.weight.data.zero_()\n",
    "        self.movie_biases.weight.data.zero_()\n",
    "\n",
    "    def forward(self, user_ids, movie_ids):\n",
    "        user_embedding = self.user_factors(user_ids)\n",
    "        movie_embedding = self.movie_factors(movie_ids)\n",
    "        user_bias = self.user_biases(user_ids).squeeze()\n",
    "        movie_bias = self.movie_biases(movie_ids).squeeze()\n",
    "        dot_product = torch.sum(user_embedding * movie_embedding, dim=1)\n",
    "        return dot_product + user_bias + movie_bias\n",
    "\n",
    "\n",
    "num_factors = 10  # 潜在特征数量\n",
    "model = MatrixFactorization(num_users, num_movies, num_factors).to(device)\n",
    "\n",
    "class NMSELoss(nn.Module):\n",
    "    def __init__(self):\n",
    "        super(NMSELoss, self).__init__()\n",
    "\n",
    "    def forward(self, predictions, targets):\n",
    "        mse = nn.MSELoss()(predictions, targets)\n",
    "        variance = torch.var(targets)\n",
    "        nmse = mse / variance\n",
    "        return nmse\n",
    "\n",
    "# 定义损失函数和优化器\n",
    "criterion = NMSELoss()\n",
    "optimizer = optim.SGD(model.parameters(), lr=10, momentum=0.9)"
   ],
   "metadata": {
    "collapsed": false,
    "ExecuteTime": {
     "end_time": "2024-05-21T01:18:32.646479Z",
     "start_time": "2024-05-21T01:18:32.636369500Z"
    }
   },
   "id": "bdf29f6d67a73ea2",
   "execution_count": 74
  },
  {
   "cell_type": "code",
   "outputs": [
    {
     "name": "stdout",
     "output_type": "stream",
     "text": [
      "Epoch 10, Loss: 3.295128583908081\n",
      "Epoch 20, Loss: 2.0645792484283447\n",
      "Epoch 30, Loss: 1.2941704988479614\n",
      "Epoch 40, Loss: 1.006013035774231\n",
      "Epoch 50, Loss: 0.8886839747428894\n",
      "Epoch 60, Loss: 0.8191966414451599\n",
      "Epoch 70, Loss: 0.7801663875579834\n",
      "Epoch 80, Loss: 0.753822386264801\n",
      "Epoch 90, Loss: 0.7348647713661194\n",
      "Epoch 100, Loss: 0.7204339504241943\n",
      "Epoch 110, Loss: 0.7089837193489075\n",
      "Epoch 120, Loss: 0.6996718645095825\n",
      "Epoch 130, Loss: 0.6919538378715515\n",
      "Epoch 140, Loss: 0.6854596138000488\n",
      "Epoch 150, Loss: 0.6799272298812866\n",
      "Epoch 160, Loss: 0.6751582622528076\n",
      "Epoch 170, Loss: 0.6710003018379211\n",
      "Epoch 180, Loss: 0.6673315167427063\n",
      "Epoch 190, Loss: 0.6640540361404419\n",
      "Epoch 200, Loss: 0.661086916923523\n",
      "Epoch 210, Loss: 0.6583627462387085\n",
      "Epoch 220, Loss: 0.6558241844177246\n",
      "Epoch 230, Loss: 0.6534220576286316\n",
      "Epoch 240, Loss: 0.6511128544807434\n",
      "Epoch 250, Loss: 0.6488574743270874\n",
      "Epoch 260, Loss: 0.6466203927993774\n",
      "Epoch 270, Loss: 0.6443679928779602\n",
      "Epoch 280, Loss: 0.6420686841011047\n",
      "Epoch 290, Loss: 0.6396920680999756\n",
      "Epoch 300, Loss: 0.6372100710868835\n",
      "Epoch 310, Loss: 0.6345964670181274\n",
      "Epoch 320, Loss: 0.6318290829658508\n",
      "Epoch 330, Loss: 0.6288918852806091\n",
      "Epoch 340, Loss: 0.6257768869400024\n",
      "Epoch 350, Loss: 0.6224873065948486\n",
      "Epoch 360, Loss: 0.6190386414527893\n",
      "Epoch 370, Loss: 0.6154587864875793\n",
      "Epoch 380, Loss: 0.6117848753929138\n",
      "Epoch 390, Loss: 0.608056902885437\n",
      "Epoch 400, Loss: 0.6043121218681335\n",
      "Epoch 410, Loss: 0.6005775332450867\n",
      "Epoch 420, Loss: 0.5968684554100037\n",
      "Epoch 430, Loss: 0.5931888818740845\n",
      "Epoch 440, Loss: 0.5895354747772217\n",
      "Epoch 450, Loss: 0.5859015583992004\n",
      "Epoch 460, Loss: 0.582281231880188\n",
      "Epoch 470, Loss: 0.5786713361740112\n",
      "Epoch 480, Loss: 0.5750726461410522\n",
      "Epoch 490, Loss: 0.5714902281761169\n",
      "Epoch 500, Loss: 0.5679318308830261\n",
      "Epoch 510, Loss: 0.5644078850746155\n",
      "Epoch 520, Loss: 0.5609294176101685\n",
      "Epoch 530, Loss: 0.5575076341629028\n",
      "Epoch 540, Loss: 0.55415278673172\n",
      "Epoch 550, Loss: 0.5508744120597839\n",
      "Epoch 560, Loss: 0.5476802587509155\n",
      "Epoch 570, Loss: 0.5445770621299744\n",
      "Epoch 580, Loss: 0.5415696501731873\n",
      "Epoch 590, Loss: 0.538661539554596\n",
      "Epoch 600, Loss: 0.5358545780181885\n",
      "Epoch 610, Loss: 0.533149242401123\n",
      "Epoch 620, Loss: 0.5305451154708862\n",
      "Epoch 630, Loss: 0.5280407071113586\n",
      "Epoch 640, Loss: 0.5256339311599731\n",
      "Epoch 650, Loss: 0.5233221650123596\n",
      "Epoch 660, Loss: 0.5211023688316345\n",
      "Epoch 670, Loss: 0.5189712047576904\n",
      "Epoch 680, Loss: 0.516925036907196\n",
      "Epoch 690, Loss: 0.5149603486061096\n",
      "Epoch 700, Loss: 0.5130730271339417\n",
      "Epoch 710, Loss: 0.5112593770027161\n",
      "Epoch 720, Loss: 0.5095157027244568\n",
      "Epoch 730, Loss: 0.507838249206543\n",
      "Epoch 740, Loss: 0.5062236189842224\n",
      "Epoch 750, Loss: 0.5046685338020325\n",
      "Epoch 760, Loss: 0.5031697750091553\n",
      "Epoch 770, Loss: 0.5017244219779968\n",
      "Epoch 780, Loss: 0.5003297924995422\n",
      "Epoch 790, Loss: 0.49898332357406616\n",
      "Epoch 800, Loss: 0.4976825714111328\n",
      "Epoch 810, Loss: 0.49642542004585266\n",
      "Epoch 820, Loss: 0.49520963430404663\n",
      "Epoch 830, Loss: 0.4940333962440491\n",
      "Epoch 840, Loss: 0.4928947389125824\n",
      "Epoch 850, Loss: 0.49179214239120483\n",
      "Epoch 860, Loss: 0.4907239079475403\n",
      "Epoch 870, Loss: 0.489688515663147\n",
      "Epoch 880, Loss: 0.4886845350265503\n",
      "Epoch 890, Loss: 0.48771071434020996\n",
      "Epoch 900, Loss: 0.48676565289497375\n",
      "Epoch 910, Loss: 0.48584824800491333\n",
      "Epoch 920, Loss: 0.48495739698410034\n",
      "Epoch 930, Loss: 0.48409202694892883\n",
      "Epoch 940, Loss: 0.48325103521347046\n",
      "Epoch 950, Loss: 0.4824334681034088\n",
      "Epoch 960, Loss: 0.4816385507583618\n",
      "Epoch 970, Loss: 0.4808652997016907\n",
      "Epoch 980, Loss: 0.4801129400730133\n",
      "Epoch 990, Loss: 0.47938069701194763\n",
      "Epoch 1000, Loss: 0.4786677360534668\n",
      "Validation Loss: 0.6023529171943665\n",
      "Validation Accuracy: 45.66%\n"
     ]
    }
   ],
   "source": [
    "# 训练模型\n",
    "num_epochs = 1000\n",
    "for epoch in range(num_epochs):\n",
    "    optimizer.zero_grad()\n",
    "    predicted_ratings = model(train_user_ids_tensor.to(device), train_movie_ids_tensor.to(device))\n",
    "    loss = criterion(predicted_ratings, train_ratings_tensor)\n",
    "    loss.backward()\n",
    "    optimizer.step()\n",
    "    if (epoch + 1) % 10 == 0:\n",
    "        print(f\"Epoch {epoch + 1}, Loss: {loss.item()}\")\n",
    "\n",
    "model.eval()\n",
    "with torch.no_grad():\n",
    "    predicted_val_ratings = model(val_user_ids_tensor, val_movie_ids_tensor)\n",
    "    val_loss = criterion(predicted_val_ratings, val_ratings_tensor)\n",
    "    print(f\"Validation Loss: {val_loss.item()}\")\n",
    "\n",
    "    tolerance = 0.5\n",
    "    absolute_errors = torch.abs(predicted_val_ratings - val_ratings_tensor)\n",
    "    correct_predictions = (absolute_errors <= tolerance).float()\n",
    "\n",
    "    accuracy = correct_predictions.mean().item() * 100\n",
    "    print(f\"Validation Accuracy: {accuracy:.2f}%\")"
   ],
   "metadata": {
    "collapsed": false,
    "ExecuteTime": {
     "end_time": "2024-05-21T01:18:41.030367300Z",
     "start_time": "2024-05-21T01:18:32.647479Z"
    }
   },
   "id": "462bcda9bf76a984",
   "execution_count": 75
  },
  {
   "cell_type": "code",
   "outputs": [],
   "source": [
    "# 预测初始值为0的数据\n",
    "def predict_all_ratings(model, ratings_matrix):\n",
    "    with torch.no_grad():\n",
    "        zero_indices = np.argwhere(ratings_matrix == 0)\n",
    "        zero_indices_tensor = torch.tensor(zero_indices).to(device)\n",
    "        user_ids = zero_indices_tensor[:, 0]\n",
    "        movie_ids = zero_indices_tensor[:, 1]\n",
    "        predicted_ratings = model(user_ids, movie_ids)\n",
    "        predicted_ratings = torch.clamp(predicted_ratings, 1, 5)  # 将预测评分限制在1到5之间\n",
    "    return predicted_ratings.cpu().numpy()\n",
    "\n",
    "predicted_all_ratings = predict_all_ratings(model, ratings_matrix)\n",
    "# 将预测后的数据补充到原始矩阵中\n",
    "ratings_matrix_predicted = ratings_matrix.copy()\n",
    "zero_indices = np.argwhere(ratings_matrix == 0)\n",
    "ratings_matrix_predicted[zero_indices[:, 0], zero_indices[:, 1]] = predicted_all_ratings"
   ],
   "metadata": {
    "collapsed": false,
    "ExecuteTime": {
     "end_time": "2024-05-21T01:18:41.836193200Z",
     "start_time": "2024-05-21T01:18:41.034350100Z"
    }
   },
   "id": "8c798a08b82f7224",
   "execution_count": 76
  },
  {
   "cell_type": "code",
   "outputs": [
    {
     "name": "stdout",
     "output_type": "stream",
     "text": [
      "TOP Movies with Highest Average Ratings:\n",
      "Movie 1198 has average rating of 4.403781304985379\n",
      "Movie 858 has average rating of 4.423511101934732\n",
      "Movie 904 has average rating of 4.42363148072247\n",
      "Movie 1148 has average rating of 4.4410004619335695\n",
      "Movie 2019 has average rating of 4.449543039010586\n",
      "Movie 745 has average rating of 4.465214004679994\n",
      "Movie 50 has average rating of 4.488059602535989\n",
      "Movie 527 has average rating of 4.495255713114733\n",
      "Movie 318 has average rating of 4.542595365706155\n",
      "Movie 2905 has average rating of 4.669391165583206\n"
     ]
    }
   ],
   "source": [
    "def average_ratings(ratings_matrix):\n",
    "    # 计算每部电影的评分总和和被评分的次数\n",
    "    movie_sums = np.sum(ratings_matrix, axis=0)\n",
    "    num_ratings = np.sum(ratings_matrix != 0, axis=0)\n",
    "    # 计算每部电影的平均得分\n",
    "    average_ratings = np.divide(movie_sums, num_ratings, where=num_ratings != 0)\n",
    "    return average_ratings\n",
    "\n",
    "# 计算每部电影的平均得分\n",
    "average_ratings = average_ratings(ratings_matrix_predicted)\n",
    "\n",
    "# 找出平均得分最高的10部电影\n",
    "top_indices = np.argsort(average_ratings)[-10:]\n",
    "top_movie_ids = top_indices\n",
    "top_average_ratings = average_ratings[top_indices]\n",
    "\n",
    "print(\"TOP Movies with Highest Average Ratings:\")\n",
    "for i in range(10):\n",
    "    print(f\"Movie {top_movie_ids[i]} has average rating of {top_average_ratings[i]}\")\n"
   ],
   "metadata": {
    "collapsed": false,
    "ExecuteTime": {
     "end_time": "2024-05-21T01:18:41.899383700Z",
     "start_time": "2024-05-21T01:18:41.836193200Z"
    }
   },
   "id": "a233ca28f9114ac0",
   "execution_count": 77
  },
  {
   "cell_type": "code",
   "outputs": [
    {
     "name": "stdout",
     "output_type": "stream",
     "text": [
      "User top movies have been written to user_top_movies.txt\n"
     ]
    }
   ],
   "source": [
    "# 找出每个用户最喜欢的十个电影\n",
    "top_n = 10\n",
    "user_top_movies = {}\n",
    "\n",
    "for user_id in range(num_users):\n",
    "    # 获取当前用户的所有评分\n",
    "    user_ratings = ratings_matrix_predicted[user_id, :]\n",
    "    # 找出评分最高的top_n个电影的索引\n",
    "    top_movie_indices = np.argsort(user_ratings)[-top_n:][::-1]\n",
    "    user_top_movies[user_id] = top_movie_indices\n",
    "\n",
    "output_file = \"user_top_movies.txt\"\n",
    "with open(output_file, \"w\") as f:\n",
    "    for user_id, top_movies in user_top_movies.items():\n",
    "        f.write(f\"User {user_id}:\\n\")\n",
    "        for movie_id in top_movies:\n",
    "            f.write(f\"Movie {movie_id}, Rating: {ratings_matrix_predicted[user_id, movie_id]:.2f}\\n\")\n",
    "        f.write(\"\\n\")\n",
    "\n",
    "print(f\"User top movies have been written to {output_file}\")"
   ],
   "metadata": {
    "collapsed": false,
    "ExecuteTime": {
     "end_time": "2024-05-21T01:18:43.103158500Z",
     "start_time": "2024-05-21T01:18:41.901384Z"
    }
   },
   "id": "c2013dc52a9b9b68",
   "execution_count": 78
  },
  {
   "cell_type": "code",
   "execution_count": 78,
   "outputs": [],
   "source": [],
   "metadata": {
    "collapsed": false,
    "ExecuteTime": {
     "end_time": "2024-05-21T01:18:43.141058100Z",
     "start_time": "2024-05-21T01:18:43.098060Z"
    }
   }
  }
 ],
 "metadata": {
  "kernelspec": {
   "display_name": "Python 3",
   "language": "python",
   "name": "python3"
  },
  "language_info": {
   "codemirror_mode": {
    "name": "ipython",
    "version": 2
   },
   "file_extension": ".py",
   "mimetype": "text/x-python",
   "name": "python",
   "nbconvert_exporter": "python",
   "pygments_lexer": "ipython2",
   "version": "2.7.6"
  }
 },
 "nbformat": 4,
 "nbformat_minor": 5
}
