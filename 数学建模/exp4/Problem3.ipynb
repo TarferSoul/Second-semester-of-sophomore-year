{
 "cells": [
  {
   "cell_type": "markdown",
   "source": [
    "## 易拉罐下料\n",
    "| 规格  | 模式  | 上盖下底（个） | 罐身（个） | 余料（平方厘米） | 时间（秒） |\n",
    "|-----|-----|---------|----|----------|-------|\n",
    "| 规格一 | 模式一 | 10      | 1  | 222.57   | 1.5   |\n",
    "| 规格一 | 模式二 | 4       | 2  | 183.30   | 2     |\n",
    "| 规格一 | 模式三 | 16      | 0  | 261.84   | 1     |\n",
    "| 规格二 | 模式四 | 5       | 4  | 169.51   | 3     |\n",
    "只考虑切割所需时间，不考虑装配易拉罐的时间"
   ],
   "metadata": {
    "collapsed": false
   }
  },
  {
   "cell_type": "code",
   "execution_count": 51,
   "outputs": [],
   "source": [
    "import pulp\n",
    "from pulp import PULP_CBC_CMD\n",
    "import time"
   ],
   "metadata": {
    "collapsed": false,
    "ExecuteTime": {
     "end_time": "2024-04-20T15:30:57.582166300Z",
     "start_time": "2024-04-20T15:30:57.558168Z"
    }
   }
  },
  {
   "cell_type": "code",
   "execution_count": 52,
   "outputs": [],
   "source": [
    "CanCutting = pulp.LpProblem('Problem3', sense=pulp.LpMaximize)\n",
    "w1 = pulp.LpVariable(\"w1\", lowBound=0, cat=\"Integer\") # 模式一切割的数量\n",
    "w2 = pulp.LpVariable(\"w2\", lowBound=0, cat=\"Integer\") # 模式二切割的数量\n",
    "w3 = pulp.LpVariable(\"w3\", lowBound=0, cat=\"Integer\") # 模式三切割的数量\n",
    "w4 = pulp.LpVariable(\"w4\", lowBound=0, cat=\"Integer\") # 模式四切割的数量\n",
    "k = pulp.LpVariable(\"k\", lowBound=0, cat=\"Integer\")  # 易拉罐数量"
   ],
   "metadata": {
    "collapsed": false,
    "ExecuteTime": {
     "end_time": "2024-04-20T15:30:57.590059500Z",
     "start_time": "2024-04-20T15:30:57.569166200Z"
    }
   }
  },
  {
   "cell_type": "code",
   "execution_count": 54,
   "outputs": [],
   "source": [
    "CanCutting += k*0.1 - (222.57*w1+183.3*w2+261.84*w3+169.51*w4)*0.001 - (w1+2*w2+4*w4-k)*(3.14159*5*10)*0.001 - (10*w1+4*w2+16*w3+5*w4-k*2)*(3.14159*6.25)*0.001"
   ],
   "metadata": {
    "collapsed": false,
    "ExecuteTime": {
     "end_time": "2024-04-20T15:30:57.623416700Z",
     "start_time": "2024-04-20T15:30:57.599059300Z"
    }
   }
  },
  {
   "cell_type": "code",
   "execution_count": 55,
   "outputs": [],
   "source": [
    "CanCutting += (w1+w2+w3 <= 50000)\n",
    "CanCutting += (w4 <= 20000)\n",
    "CanCutting += (1.5*w1+2*w2+w3+3*w4 <= 40*3600)\n",
    "CanCutting += (k <= w1+2*w2+4*w4)\n",
    "CanCutting += (2*k <= 10*w1+4*w2+16*w3+5*w4)"
   ],
   "metadata": {
    "collapsed": false,
    "ExecuteTime": {
     "end_time": "2024-04-20T15:30:57.629474400Z",
     "start_time": "2024-04-20T15:30:57.615063300Z"
    }
   }
  },
  {
   "cell_type": "code",
   "execution_count": 56,
   "outputs": [
    {
     "name": "stdout",
     "output_type": "stream",
     "text": [
      "k = 160250.0\n",
      "w1 = 0.0\n",
      "w2 = 40125.0\n",
      "w3 = 3750.0\n",
      "w4 = 20000.0\n",
      "Objective = 4297.987500000007\n"
     ]
    }
   ],
   "source": [
    "CanCutting.solve(pulp.PULP_CBC_CMD(msg=False))\n",
    "\n",
    "for v in CanCutting.variables():\n",
    "    print(v.name, \"=\", v.varValue)\n",
    "\n",
    "print(\"Objective =\", pulp.value(CanCutting.objective))"
   ],
   "metadata": {
    "collapsed": false,
    "ExecuteTime": {
     "end_time": "2024-04-20T15:30:57.661845200Z",
     "start_time": "2024-04-20T15:30:57.630474300Z"
    }
   }
  }
 ],
 "metadata": {
  "kernelspec": {
   "name": "carlpython",
   "language": "python",
   "display_name": "carlpython"
  },
  "language_info": {
   "codemirror_mode": {
    "name": "ipython",
    "version": 2
   },
   "file_extension": ".py",
   "mimetype": "text/x-python",
   "name": "python",
   "nbconvert_exporter": "python",
   "pygments_lexer": "ipython2",
   "version": "2.7.6"
  }
 },
 "nbformat": 4,
 "nbformat_minor": 0
}
