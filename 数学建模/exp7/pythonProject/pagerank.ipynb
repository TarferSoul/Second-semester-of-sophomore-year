{
 "cells": [
  {
   "cell_type": "code",
   "execution_count": 3,
   "id": "initial_id",
   "metadata": {
    "collapsed": true,
    "ExecuteTime": {
     "end_time": "2024-05-29T03:16:13.969054500Z",
     "start_time": "2024-05-29T03:16:13.958388400Z"
    }
   },
   "outputs": [],
   "source": [
    "import numpy as np\n",
    "\n",
    "def pagerank(graph, damping_factor=0.15, num_simulations=100000):\n",
    "    num_nodes = len(graph)\n",
    "    rank = np.zeros(num_nodes)\n",
    "    \n",
    "    for _ in range(num_simulations):\n",
    "        current_node = np.random.choice(num_nodes)\n",
    "        \n",
    "        while np.random.rand() > damping_factor:\n",
    "            rank[current_node] += 1\n",
    "            if len(graph[current_node]) > 0:\n",
    "                current_node = np.random.choice(graph[current_node])\n",
    "            else:\n",
    "                break\n",
    "    \n",
    "    return rank / np.sum(rank)"
   ]
  },
  {
   "cell_type": "code",
   "outputs": [],
   "source": [
    "# 图的邻接表\n",
    "graph1 = {\n",
    "    0: [2],\n",
    "    1: [2, 4],\n",
    "    2: [0],\n",
    "    3: [1, 4],\n",
    "    4: [3],\n",
    "    5: [2]\n",
    "}\n",
    "\n",
    "graph2 = {\n",
    "    0: [],\n",
    "    1: [0],\n",
    "    2: [0],\n",
    "    3: [1],\n",
    "    4: [1],\n",
    "    5: [2],\n",
    "    6: [2],\n",
    "    7: [2]\n",
    "}\n"
   ],
   "metadata": {
    "collapsed": false,
    "ExecuteTime": {
     "end_time": "2024-05-29T03:16:19.985874400Z",
     "start_time": "2024-05-29T03:16:19.973958400Z"
    }
   },
   "id": "1200f94236a56d99",
   "execution_count": 4
  },
  {
   "cell_type": "code",
   "outputs": [
    {
     "name": "stdout",
     "output_type": "stream",
     "text": [
      "PageRank values for Graph 1:\n",
      "Node 1: 0.3265\n",
      "Node 2: 0.0733\n",
      "Node 3: 0.3546\n",
      "Node 4: 0.1150\n",
      "Node 5: 0.1057\n",
      "Node 6: 0.0250\n",
      "\n",
      "PageRank values for Graph 2:\n",
      "Node 1: 0.3607\n",
      "Node 2: 0.1544\n",
      "Node 3: 0.2016\n",
      "Node 4: 0.0573\n",
      "Node 5: 0.0562\n",
      "Node 6: 0.0572\n",
      "Node 7: 0.0554\n",
      "Node 8: 0.0573\n"
     ]
    }
   ],
   "source": [
    "# 计算PageRank值\n",
    "pagerank1 = pagerank(graph1)\n",
    "pagerank2 = pagerank(graph2)\n",
    "\n",
    "print(\"PageRank values for Graph 1:\")\n",
    "for i, rank in enumerate(pagerank1):\n",
    "    print(f\"Node {i + 1}: {rank:.4f}\")\n",
    "\n",
    "print(\"\\nPageRank values for Graph 2:\")\n",
    "for i, rank in enumerate(pagerank2):\n",
    "    print(f\"Node {i + 1}: {rank:.4f}\")\n"
   ],
   "metadata": {
    "collapsed": false,
    "ExecuteTime": {
     "end_time": "2024-05-29T03:16:36.070686400Z",
     "start_time": "2024-05-29T03:16:21.874364900Z"
    }
   },
   "id": "17930766c69fb37c",
   "execution_count": 5
  },
  {
   "cell_type": "code",
   "outputs": [],
   "source": [],
   "metadata": {
    "collapsed": false
   },
   "id": "5f8bd944660488b0"
  }
 ],
 "metadata": {
  "kernelspec": {
   "display_name": "Python 3",
   "language": "python",
   "name": "python3"
  },
  "language_info": {
   "codemirror_mode": {
    "name": "ipython",
    "version": 2
   },
   "file_extension": ".py",
   "mimetype": "text/x-python",
   "name": "python",
   "nbconvert_exporter": "python",
   "pygments_lexer": "ipython2",
   "version": "2.7.6"
  }
 },
 "nbformat": 4,
 "nbformat_minor": 5
}
