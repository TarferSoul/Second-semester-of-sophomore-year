{
 "cells": [
  {
   "cell_type": "code",
   "execution_count": 3,
   "id": "initial_id",
   "metadata": {
    "collapsed": true,
    "ExecuteTime": {
     "end_time": "2024-05-29T02:14:23.011321600Z",
     "start_time": "2024-05-29T02:14:22.992053200Z"
    }
   },
   "outputs": [],
   "source": [
    "import random\n",
    "\n",
    "def simulate_game(player1_guess, player2_guess, trials):\n",
    "    player1_wins = 0\n",
    "    player2_wins = 0\n",
    "\n",
    "    for _ in range(trials):\n",
    "        sequence = []\n",
    "        while True:\n",
    "            flip = 'H' if random.random() < 0.5 else 'T'\n",
    "            sequence.append(flip)\n",
    "            if len(sequence) >= len(player1_guess):\n",
    "                if sequence[-len(player1_guess):] == list(player1_guess):\n",
    "                    player1_wins += 1\n",
    "                    break\n",
    "                elif sequence[-len(player2_guess):] == list(player2_guess):\n",
    "                    player2_wins += 1\n",
    "                    break\n",
    "\n",
    "    return player1_wins, player2_wins\n"
   ]
  },
  {
   "cell_type": "code",
   "outputs": [
    {
     "name": "stdout",
     "output_type": "stream",
     "text": [
      "HHH vs HHT = 0.99\n",
      "HHH vs HTT = 0.67\n",
      "HHH vs TTT = 1.00\n",
      "HHH vs TTH = 0.43\n",
      "HHH vs THH = 0.14\n",
      "HHH vs HTH = 0.67\n",
      "HHH vs THT = 0.71\n",
      "The best strategy for HHH is to play THH with a win ratio of 7.12\n",
      "HHT vs HHH = 1.01\n",
      "HHT vs HTT = 1.99\n",
      "HHT vs TTT = 2.32\n",
      "HHT vs TTH = 0.99\n",
      "HHT vs THH = 0.34\n",
      "HHT vs HTH = 1.98\n",
      "HHT vs THT = 1.64\n",
      "The best strategy for HHT is to play THH with a win ratio of 2.97\n",
      "HTT vs HHH = 1.50\n",
      "HTT vs HHT = 0.50\n",
      "HTT vs TTT = 6.95\n",
      "HTT vs TTH = 3.02\n",
      "HTT vs THH = 1.00\n",
      "HTT vs HTH = 1.01\n",
      "HTT vs THT = 0.99\n",
      "The best strategy for HTT is to play HHT with a win ratio of 2.00\n",
      "TTT vs HHH = 1.01\n",
      "TTT vs HHT = 0.42\n",
      "TTT vs HTT = 0.15\n",
      "TTT vs TTH = 0.99\n",
      "TTT vs THH = 0.66\n",
      "TTT vs HTH = 0.73\n",
      "TTT vs THT = 0.68\n",
      "The best strategy for TTT is to play HTT with a win ratio of 6.90\n",
      "TTH vs HHH = 2.32\n",
      "TTH vs HHT = 1.00\n",
      "TTH vs HTT = 0.33\n",
      "TTH vs TTT = 0.99\n",
      "TTH vs THH = 2.00\n",
      "TTH vs HTH = 1.67\n",
      "TTH vs THT = 2.01\n",
      "The best strategy for TTH is to play HTT with a win ratio of 2.99\n",
      "THH vs HHH = 6.95\n",
      "THH vs HHT = 3.01\n",
      "THH vs HTT = 1.00\n",
      "THH vs TTT = 1.49\n",
      "THH vs TTH = 0.50\n",
      "THH vs HTH = 1.00\n",
      "THH vs THT = 1.00\n",
      "The best strategy for THH is to play TTH with a win ratio of 2.00\n",
      "HTH vs HHH = 1.51\n",
      "HTH vs HHT = 0.50\n",
      "HTH vs HTT = 1.00\n",
      "HTH vs TTT = 1.40\n",
      "HTH vs TTH = 0.61\n",
      "HTH vs THH = 0.99\n",
      "HTH vs THT = 1.00\n",
      "The best strategy for HTH is to play HHT with a win ratio of 2.00\n",
      "THT vs HHH = 1.39\n",
      "THT vs HHT = 0.60\n",
      "THT vs HTT = 1.00\n",
      "THT vs TTT = 1.49\n",
      "THT vs TTH = 0.50\n",
      "THT vs THH = 1.00\n",
      "THT vs HTH = 1.01\n",
      "The best strategy for THT is to play TTH with a win ratio of 1.99\n"
     ]
    }
   ],
   "source": [
    "choices = ['HHH', 'HHT', 'HTT', 'TTT', 'TTH', 'THH', 'HTH', 'THT']\n",
    "trials = 100000\n",
    "\n",
    "for player_1_guess in choices:\n",
    "    win_ratios = []\n",
    "    for player_2_guess in choices:\n",
    "        if player_1_guess != player_2_guess:\n",
    "            player_1_wins, player_2_wins = simulate_game(player_1_guess, player_2_guess, trials)\n",
    "            \n",
    "            if player_2_wins > 0:\n",
    "                win_ratio = player_1_wins / player_2_wins\n",
    "            else:\n",
    "                win_ratio = float('inf')\n",
    "            \n",
    "            win_ratios.append((player_2_guess, win_ratio))\n",
    "            print(f'{player_1_guess} vs {player_2_guess} = {win_ratio:.2f}')\n",
    "    \n",
    "    best_strategy = min(win_ratios, key=lambda x: x[1])\n",
    "    print(f'The best strategy for {player_1_guess} is to play {best_strategy[0]} with a win ratio of {1/best_strategy[1]:.2f}\\n')"
   ],
   "metadata": {
    "collapsed": false,
    "ExecuteTime": {
     "end_time": "2024-05-29T03:19:02.230645400Z",
     "start_time": "2024-05-29T03:18:38.766458300Z"
    }
   },
   "id": "289b82ea7f904915",
   "execution_count": 8
  },
  {
   "cell_type": "code",
   "outputs": [],
   "source": [],
   "metadata": {
    "collapsed": false
   },
   "id": "9f30ee367dbe8d2f"
  }
 ],
 "metadata": {
  "kernelspec": {
   "display_name": "Python 3",
   "language": "python",
   "name": "python3"
  },
  "language_info": {
   "codemirror_mode": {
    "name": "ipython",
    "version": 2
   },
   "file_extension": ".py",
   "mimetype": "text/x-python",
   "name": "python",
   "nbconvert_exporter": "python",
   "pygments_lexer": "ipython2",
   "version": "2.7.6"
  }
 },
 "nbformat": 4,
 "nbformat_minor": 5
}
