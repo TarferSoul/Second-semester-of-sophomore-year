{
 "cells": [
  {
   "cell_type": "code",
   "execution_count": 1,
   "metadata": {
    "collapsed": true,
    "ExecuteTime": {
     "end_time": "2024-05-12T09:46:22.507630100Z",
     "start_time": "2024-05-12T09:46:21.867873300Z"
    }
   },
   "outputs": [],
   "source": [
    "import random\n",
    "import itertools\n",
    "\n",
    "def generate_invitation_codes():\n",
    "    letters = 'abcdefghijklmnopqrstuvwxyz'\n",
    "    for prefix in itertools.product(letters, repeat=2):\n",
    "        prefix = ''.join(prefix)\n",
    "        for suffix in range(10000):\n",
    "            yield f\"{prefix}{suffix:04d}\"\n",
    "\n",
    "# 预生成邀请码\n",
    "num_invitation_codes = 1000000\n",
    "invitation_codes_generator = generate_invitation_codes()\n",
    "invitation_codes = [next(invitation_codes_generator) for _ in range(num_invitation_codes)]\n",
    "\n",
    "# 将未使用的邀请码保存到文件中\n",
    "with open(\"unused_invitation_codes.txt\", 'w') as file:\n",
    "    for code in invitation_codes:\n",
    "        file.write(f\"{code}\\n\")\n"
   ]
  },
  {
   "cell_type": "code",
   "execution_count": 2,
   "outputs": [
    {
     "name": "stdout",
     "output_type": "stream",
     "text": [
      "使用的邀请码是: ay7802\n"
     ]
    }
   ],
   "source": [
    "def get_unused_invitation_code(file_path):\n",
    "    with open(file_path, 'r') as file:\n",
    "        unused_invitation_codes = [line.strip() for line in file]\n",
    "\n",
    "    if not unused_invitation_codes:\n",
    "        return None\n",
    "\n",
    "    selected_code = random.choice(unused_invitation_codes)\n",
    "    unused_invitation_codes.remove(selected_code)\n",
    "\n",
    "    with open(file_path, 'w') as file:\n",
    "        for code in unused_invitation_codes:\n",
    "            file.write(f\"{code}\\n\")\n",
    "\n",
    "    return selected_code\n",
    "\n",
    "# 从文件中获取一个未使用的邀请码并标记为已使用\n",
    "unused_invitation_codes_file_path = \"unused_invitation_codes.txt\"\n",
    "invitation_code = get_unused_invitation_code(unused_invitation_codes_file_path)\n",
    "if invitation_code:\n",
    "    print(f\"使用的邀请码是: {invitation_code}\")\n",
    "else:\n",
    "    print(\"没有未使用的邀请码了\")\n"
   ],
   "metadata": {
    "collapsed": false,
    "ExecuteTime": {
     "end_time": "2024-05-12T09:49:19.739237900Z",
     "start_time": "2024-05-12T09:49:19.187068Z"
    }
   }
  },
  {
   "cell_type": "code",
   "execution_count": null,
   "outputs": [],
   "source": [],
   "metadata": {
    "collapsed": false
   }
  }
 ],
 "metadata": {
  "kernelspec": {
   "display_name": "Python 3",
   "language": "python",
   "name": "python3"
  },
  "language_info": {
   "codemirror_mode": {
    "name": "ipython",
    "version": 2
   },
   "file_extension": ".py",
   "mimetype": "text/x-python",
   "name": "python",
   "nbconvert_exporter": "python",
   "pygments_lexer": "ipython2",
   "version": "2.7.6"
  }
 },
 "nbformat": 4,
 "nbformat_minor": 0
}
