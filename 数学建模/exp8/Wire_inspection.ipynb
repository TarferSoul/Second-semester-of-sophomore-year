{
 "cells": [
  {
   "cell_type": "code",
   "outputs": [],
   "source": [
    "import numpy as np\n",
    "from scipy.sparse.csgraph import floyd_warshall"
   ],
   "metadata": {
    "collapsed": false,
    "ExecuteTime": {
     "end_time": "2024-06-10T03:45:49.351984Z",
     "start_time": "2024-06-10T03:45:49.341422100Z"
    }
   },
   "id": "496223c6f653d95f",
   "execution_count": 38
  },
  {
   "cell_type": "code",
   "outputs": [],
   "source": [
    "nodes = ['a', 'b', 'c', 'd', 'e', 'f', 'g', 'h', 'i', 'j', 'k', 'l', 'm']\n",
    "edges = [\n",
    "    ('k', 'l', 3), ('k', 'e', 6), ('k', 'h', 3),\n",
    "    ('h', 'l', 1), ('h', 'e', 3), ('e', 'a', 1),\n",
    "    ('e', 'f', 4), ('a', 'd', 1), ('a', 'b', 4),\n",
    "    ('a', 'c', 3), ('d', 'b', 4), ('d', 'f', 2),\n",
    "    ('f', 'l', 3), ('f', 'g', 3), ('f', 'i', 4),\n",
    "    ('f', 'b', 3), ('b', 'c', 5), ('c', 'g', 1),\n",
    "    ('g', 'm', 1), ('g', 'j', 4), ('i', 'l', 1),\n",
    "    ('i', 'j', 6), ('j', 'm', 2), ('j', 'l', 4),\n",
    "    ('m', 'l', 5)\n",
    "]"
   ],
   "metadata": {
    "collapsed": false,
    "ExecuteTime": {
     "end_time": "2024-06-10T03:45:49.386780800Z",
     "start_time": "2024-06-10T03:45:49.350991800Z"
    }
   },
   "id": "cf38b7a83736cac3",
   "execution_count": 39
  },
  {
   "cell_type": "code",
   "outputs": [],
   "source": [
    "# 创建初始化为无穷大的矩阵，因为大多数节点间最初没有路径\n",
    "n = len(nodes)\n",
    "adj_matrix = np.full((n, n), np.inf)\n",
    "\n",
    "# 节点到矩阵索引的映射\n",
    "node_index = {node: idx for idx, node in enumerate(nodes)}\n",
    "\n",
    "# 用边的权重填充矩阵\n",
    "for src, dst, weight in edges:\n",
    "    i, j = node_index[src], node_index[dst]\n",
    "    adj_matrix[i][j] = weight\n",
    "    adj_matrix[j][i] = weight  # 假设是无向图\n",
    "\n",
    "# 对于无自环的情况将无穷大替换为0\n",
    "np.fill_diagonal(adj_matrix, 0)"
   ],
   "metadata": {
    "collapsed": false,
    "ExecuteTime": {
     "end_time": "2024-06-10T03:45:49.386780800Z",
     "start_time": "2024-06-10T03:45:49.364162400Z"
    }
   },
   "id": "958adf7534ccacd6",
   "execution_count": 40
  },
  {
   "cell_type": "code",
   "execution_count": 41,
   "outputs": [
    {
     "name": "stdout",
     "output_type": "stream",
     "text": [
      "[[ 0.  4.  3.  1.  1. inf inf inf inf inf inf inf inf]\n",
      " [ 4.  0.  5.  4. inf  3. inf inf inf inf inf inf inf]\n",
      " [ 3.  5.  0. inf inf inf  1. inf inf inf inf inf inf]\n",
      " [ 1.  4. inf  0. inf  2. inf inf inf inf inf inf inf]\n",
      " [ 1. inf inf inf  0.  4. inf  3. inf inf  6. inf inf]\n",
      " [inf  3. inf  2.  4.  0.  3. inf  4. inf inf  3. inf]\n",
      " [inf inf  1. inf inf  3.  0. inf inf  4. inf inf  1.]\n",
      " [inf inf inf inf  3. inf inf  0. inf inf  3.  1. inf]\n",
      " [inf inf inf inf inf  4. inf inf  0.  6. inf  1. inf]\n",
      " [inf inf inf inf inf inf  4. inf  6.  0. inf  4.  2.]\n",
      " [inf inf inf inf  6. inf inf  3. inf inf  0.  3. inf]\n",
      " [inf inf inf inf inf  3. inf  1.  1.  4.  3.  0.  5.]\n",
      " [inf inf inf inf inf inf  1. inf inf  2. inf  5.  0.]]\n"
     ]
    }
   ],
   "source": [
    "print(adj_matrix)"
   ],
   "metadata": {
    "collapsed": false,
    "ExecuteTime": {
     "end_time": "2024-06-10T03:45:49.393787600Z",
     "start_time": "2024-06-10T03:45:49.381276300Z"
    }
   }
  },
  {
   "cell_type": "code",
   "execution_count": 42,
   "outputs": [
    {
     "name": "stdout",
     "output_type": "stream",
     "text": [
      "添加的边： [('c', 'm', 2), ('h', 'i', 2), ('d', 'k', 8)]\n",
      "是否为欧拉图: True\n"
     ]
    }
   ],
   "source": [
    "import networkx as nx\n",
    "import itertools\n",
    "\n",
    "# 创建无向图\n",
    "G = nx.Graph()\n",
    "\n",
    "# 添加节点\n",
    "G.add_nodes_from(nodes)\n",
    "\n",
    "# 添加边\n",
    "for edge in edges:\n",
    "    G.add_edge(edge[0], edge[1], weight=edge[2])\n",
    "\n",
    "# 找出所有奇度数顶点\n",
    "odd_degree_nodes = [node for node, degree in G.degree() if degree % 2 == 1]\n",
    "\n",
    "# 为奇度数顶点之间添加边，使之变成欧拉图\n",
    "def add_edges_to_make_eulerian(G, odd_degree_nodes):\n",
    "    # 找出所有奇度数顶点对的最短路径\n",
    "    pairs = list(itertools.combinations(odd_degree_nodes, 2))\n",
    "    shortest_paths = {}\n",
    "    for u, v in pairs:\n",
    "        shortest_paths[(u, v)] = nx.shortest_path_length(G, u, v, weight='weight')\n",
    "\n",
    "    # 贪心算法：选择最短路径的顶点对来添加边\n",
    "    added_edges = []\n",
    "    while odd_degree_nodes:\n",
    "        u, v = min(shortest_paths.keys(), key=lambda pair: shortest_paths[pair])\n",
    "        G.add_edge(u, v, weight=shortest_paths[(u, v)])\n",
    "        added_edges.append((u, v, shortest_paths[(u, v)]))\n",
    "        odd_degree_nodes.remove(u)\n",
    "        odd_degree_nodes.remove(v)\n",
    "        shortest_paths = {pair: dist for pair, dist in shortest_paths.items() if u not in pair and v not in pair}\n",
    "\n",
    "    return added_edges\n",
    "\n",
    "added_edges = add_edges_to_make_eulerian(G, odd_degree_nodes)\n",
    "print(\"添加的边：\", added_edges)\n",
    "\n",
    "# 检查是否现在是欧拉图\n",
    "print(\"是否为欧拉图:\", nx.is_eulerian(G))\n"
   ],
   "metadata": {
    "collapsed": false,
    "ExecuteTime": {
     "end_time": "2024-06-10T03:45:49.428830700Z",
     "start_time": "2024-06-10T03:45:49.397295200Z"
    }
   }
  },
  {
   "cell_type": "code",
   "execution_count": 43,
   "outputs": [
    {
     "name": "stdout",
     "output_type": "stream",
     "text": [
      "欧拉巡回的路径： ['a', 'c', 'm', 'l', 'j', 'm', 'g', 'j', 'i', 'l', 'h', 'i', 'f', 'l', 'k', 'h', 'e', 'f', 'g', 'c', 'b', 'f', 'd', 'b', 'a', 'd', 'k', 'e', 'a']\n",
      "欧拉巡回的距离： 89\n"
     ]
    }
   ],
   "source": [
    "# 找到欧拉回路\n",
    "euler_circuit = list(nx.eulerian_circuit(G))\n",
    "euler_path = [u for u, v in euler_circuit] + [euler_circuit[-1][1]]\n",
    "total_distance = sum(G[u][v]['weight'] for u, v in euler_circuit)\n",
    "\n",
    "print(\"欧拉巡回的路径：\", euler_path)\n",
    "print(\"欧拉巡回的距离：\", total_distance)\n"
   ],
   "metadata": {
    "collapsed": false,
    "ExecuteTime": {
     "end_time": "2024-06-10T03:45:49.428830700Z",
     "start_time": "2024-06-10T03:45:49.411808700Z"
    }
   }
  },
  {
   "cell_type": "code",
   "execution_count": 44,
   "outputs": [
    {
     "name": "stdout",
     "output_type": "stream",
     "text": [
      "从顶点 g 出发的巡检的最短路径： ['g', 'j', 'l', 'm', 'j', 'i', 'l', 'h', 'i', 'f', 'l', 'k', 'h', 'e', 'f', 'g', 'm', 'c', 'b', 'f', 'd', 'b', 'a', 'd', 'k', 'e', 'a', 'c', 'g']\n",
      "从顶点 g 出发的巡检距离： 89\n"
     ]
    }
   ],
   "source": [
    "# 从指定顶点出发找到欧拉回路\n",
    "def find_eulerian_path_from_start(G, start):\n",
    "    if nx.is_eulerian(G):\n",
    "        euler_circuit = list(nx.eulerian_circuit(G, source=start))\n",
    "    else:\n",
    "        odd_degree_nodes = [node for node, degree in G.degree() if degree % 2 == 1]\n",
    "        euler_circuit = list(nx.eulerian_path(G, source=start, keys=False))\n",
    "\n",
    "    euler_path = [u for u, v in euler_circuit] + [euler_circuit[-1][1]]\n",
    "    total_distance = sum(G[u][v]['weight'] for u, v in euler_circuit)\n",
    "\n",
    "    return euler_path, total_distance\n",
    "\n",
    "start_node = 'g'\n",
    "euler_path_from_start, total_distance_from_start = find_eulerian_path_from_start(G, start_node)\n",
    "\n",
    "print(f\"从顶点 {start_node} 出发的巡检的最短路径：\", euler_path_from_start)\n",
    "print(f\"从顶点 {start_node} 出发的巡检距离：\", total_distance_from_start)"
   ],
   "metadata": {
    "collapsed": false,
    "ExecuteTime": {
     "end_time": "2024-06-10T03:45:49.440343900Z",
     "start_time": "2024-06-10T03:45:49.427827700Z"
    }
   }
  },
  {
   "cell_type": "code",
   "execution_count": 51,
   "outputs": [
    {
     "name": "stdout",
     "output_type": "stream",
     "text": [
      "从顶点 a 出发到顶点 e 结束的巡检的最短路径： ['a', 'e', 'k', 'd', 'a', 'b', 'd', 'f', 'b', 'c', 'g', 'f', 'e', 'h', 'k', 'l', 'f', 'i', 'h', 'l', 'i', 'j', 'g', 'm', 'j', 'l', 'm', 'c', 'a', 'e']\n",
      "从顶点 a 出发到顶点 e 结束的巡检距离： 90\n"
     ]
    }
   ],
   "source": [
    "# 从指定顶点出发找到欧拉回路\n",
    "def find_eulerian_path_between_nodes(G, start, end):\n",
    "    # 找到欧拉路径\n",
    "    euler_path = list(nx.eulerian_path(G, source=start))\n",
    "    path = [u for u, v in euler_path] + [euler_path[-1][1]]\n",
    "    total_distance = sum(G[u][v]['weight'] for u, v in euler_path)\n",
    "\n",
    "    # 如果指定了终点，则调整路径\n",
    "    if path[-1] != end:\n",
    "        path = path + nx.shortest_path(G, path[-1], end)[1:]\n",
    "        total_distance += nx.shortest_path_length(G, path[-2], end, weight='weight')\n",
    "\n",
    "    return path, total_distance\n",
    "\n",
    "# 指定起点和终点\n",
    "start_node = 'a'\n",
    "end_node = 'e'\n",
    "\n",
    "# 找到欧拉路径并计算总距离\n",
    "euler_path, total_distance = find_eulerian_path_between_nodes(G, start_node, end_node)\n",
    "\n",
    "print(f\"从顶点 {start_node} 出发到顶点 {end_node} 结束的巡检的最短路径：\", euler_path)\n",
    "print(f\"从顶点 {start_node} 出发到顶点 {end_node} 结束的巡检距离：\", total_distance)"
   ],
   "metadata": {
    "collapsed": false,
    "ExecuteTime": {
     "end_time": "2024-06-10T03:48:41.335431600Z",
     "start_time": "2024-06-10T03:48:41.326393400Z"
    }
   }
  },
  {
   "cell_type": "code",
   "execution_count": 1,
   "outputs": [
    {
     "data": {
      "text/plain": "<Figure size 1000x600 with 1 Axes>",
      "image/png": "[encoded data removed]"
     },
     "metadata": {},
     "output_type": "display_data"
    }
   ],
   "source": [
    "import numpy as np\n",
    "import matplotlib.pyplot as plt\n",
    "\n",
    "# 定义x的取值范围\n",
    "x = np.linspace(0, np.pi, 400)\n",
    "y1 = np.sin(x)\n",
    "\n",
    "# 为了避免tan(x)在区间内的无定义点，设置一个较大的取值范围\n",
    "x_tan = np.linspace(0, np.pi, 1000)\n",
    "y2 = 0.5 * np.tan(x_tan)\n",
    "\n",
    "# 绘制图像\n",
    "plt.figure(figsize=(10, 6))\n",
    "\n",
    "# 绘制y = sin(x)\n",
    "plt.plot(x, y1, label='y = sin(x)')\n",
    "\n",
    "# 绘制y = 1/2 * tan(x)\n",
    "plt.plot(x_tan, y2, label='y = 1/2 * tan(x)', linestyle='--')\n",
    "\n",
    "# 设置坐标轴范围\n",
    "plt.xlim(0, np.pi)\n",
    "plt.ylim(-2, 2)\n",
    "\n",
    "# 标记不连续点（tan函数的无定义点）\n",
    "discontinuities = np.arange(0, np.pi, np.pi/2)[1:]\n",
    "for point in discontinuities:\n",
    "    plt.axvline(x=point, color='r', linestyle=':', linewidth=1)\n",
    "\n",
    "# 添加标题和图例\n",
    "plt.title('Graphs of y = sin(x) and y = 1/2 * tan(x) on [0, π]')\n",
    "plt.xlabel('x')\n",
    "plt.ylabel('y')\n",
    "plt.legend()\n",
    "plt.grid(True)\n",
    "\n",
    "# 显示图像\n",
    "plt.show()\n"
   ],
   "metadata": {
    "collapsed": false,
    "ExecuteTime": {
     "end_time": "2024-07-26T14:29:17.524674400Z",
     "start_time": "2024-07-26T14:29:15.784770500Z"
    }
   }
  },
  {
   "cell_type": "code",
   "execution_count": null,
   "outputs": [],
   "source": [],
   "metadata": {
    "collapsed": false
   }
  }
 ],
 "metadata": {
  "kernelspec": {
   "display_name": "Python 3",
   "language": "python",
   "name": "python3"
  },
  "language_info": {
   "codemirror_mode": {
    "name": "ipython",
    "version": 2
   },
   "file_extension": ".py",
   "mimetype": "text/x-python",
   "name": "python",
   "nbconvert_exporter": "python",
   "pygments_lexer": "ipython2",
   "version": "2.7.6"
  }
 },
 "nbformat": 4,
 "nbformat_minor": 5
}
