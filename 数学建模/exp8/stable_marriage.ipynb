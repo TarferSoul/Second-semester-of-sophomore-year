{
 "cells": [
  {
   "cell_type": "code",
   "execution_count": null,
   "metadata": {
    "collapsed": true
   },
   "outputs": [],
   "source": [
    "def stable_marriage_daily(men_preferences, women_preferences):\n",
    "    n = len(men_preferences)\n",
    "    # 初始化所有人未婚\n",
    "    free_men = list(range(n))\n",
    "    # 每个女生目前的配对\n",
    "    women_partner = [-1] * n\n",
    "    # 每个男生的提议索引\n",
    "    men_next_proposal = [0] * n\n",
    "    # 为女生创建一个字典，表示她们对每个男生的排名\n",
    "    women_ranking = [[0] * n for _ in range(n)]\n",
    "    for w in range(n):\n",
    "        for rank, m in enumerate(women_preferences[w]):\n",
    "            women_ranking[w][m-1] = rank\n",
    "\n",
    "    days = 0\n",
    "    while free_men:\n",
    "        days += 1\n",
    "        morning_proposals = {}\n",
    "\n",
    "        # 早上: 每个男生向其候选名单中最喜欢的女生示爱\n",
    "        for m in free_men:\n",
    "            w = men_preferences[m][men_next_proposal[m]] - 1\n",
    "            if w not in morning_proposals:\n",
    "                morning_proposals[w] = []\n",
    "            morning_proposals[w].append(m)\n",
    "            men_next_proposal[m] += 1\n",
    "\n",
    "        new_free_men = []\n",
    "\n",
    "        # 下午: 女生从对其示爱的男生中选取自己最喜欢的，其他人拒绝\n",
    "        for w, proposers in morning_proposals.items():\n",
    "            if women_partner[w] == -1:\n",
    "                best_choice = min(proposers, key=lambda x: women_ranking[w][x])\n",
    "                women_partner[w] = best_choice\n",
    "                proposers.remove(best_choice)\n",
    "                new_free_men.extend(proposers)\n",
    "            else:\n",
    "                current_partner = women_partner[w]\n",
    "                best_choice = min([current_partner] + proposers, key=lambda x: women_ranking[w][x])\n",
    "                if best_choice != current_partner:\n",
    "                    women_partner[w] = best_choice\n",
    "                    new_free_men.append(current_partner)\n",
    "                if best_choice in proposers:\n",
    "                    proposers.remove(best_choice)\n",
    "                new_free_men.extend(proposers)\n",
    "\n",
    "        # 晚上: 男生将对其说“不可能”的女生从候选名单中删除\n",
    "        free_men = new_free_men\n",
    "\n",
    "        if all(men_next_proposal[m] == n for m in free_men):\n",
    "            break\n",
    "\n",
    "    result = [(women_partner[w] + 1, w + 1) for w in range(n)]\n",
    "    return result, days"
   ]
  },
  {
   "cell_type": "code",
   "execution_count": 3,
   "outputs": [
    {
     "name": "stdout",
     "output_type": "stream",
     "text": [
      "匹配结果:\n",
      "男 1 和 女 1\n",
      "男 5 和 女 2\n",
      "男 6 和 女 3\n",
      "男 7 和 女 4\n",
      "男 3 和 女 5\n",
      "男 8 和 女 6\n",
      "男 4 和 女 7\n",
      "男 2 和 女 8\n",
      "总天数: 9\n"
     ]
    }
   ],
   "source": [
    "# 测试数据\n",
    "men_preferences = [\n",
    "    [8, 6, 4, 5, 1, 7, 3, 2],\n",
    "    [8, 2, 3, 1, 6, 5, 4, 7],\n",
    "    [5, 2, 1, 7, 6, 8, 3, 4],\n",
    "    [7, 6, 3, 8, 5, 4, 1, 2],\n",
    "    [4, 6, 2, 7, 3, 8, 5, 1],\n",
    "    [4, 5, 8, 6, 3, 7, 1, 2],\n",
    "    [5, 2, 6, 4, 8, 7, 1, 3],\n",
    "    [6, 1, 4, 3, 8, 7, 2, 5]\n",
    "]\n",
    "\n",
    "women_preferences = [\n",
    "    [4, 3, 8, 1, 5, 2, 6, 7],\n",
    "    [3, 5, 7, 4, 2, 8, 1, 6],\n",
    "    [8, 1, 3, 7, 2, 4, 5, 6],\n",
    "    [7, 3, 1, 8, 5, 4, 2, 6],\n",
    "    [3, 7, 1, 8, 4, 5, 6, 2],\n",
    "    [8, 7, 5, 1, 6, 3, 2, 4],\n",
    "    [4, 7, 8, 3, 2, 6, 5, 1],\n",
    "    [8, 2, 4, 5, 3, 6, 1, 7]\n",
    "]\n",
    "\n",
    "result, days = stable_marriage_daily(men_preferences, women_preferences)\n",
    "print(\"匹配结果:\")\n",
    "for m, w in result:\n",
    "    print(f\"男 {m} 和 女 {w}\")\n",
    "print(f\"总天数: {days}\")"
   ],
   "metadata": {
    "collapsed": false,
    "ExecuteTime": {
     "end_time": "2024-06-10T03:53:53.953723800Z",
     "start_time": "2024-06-10T03:53:53.916176100Z"
    }
   }
  },
  {
   "cell_type": "code",
   "execution_count": null,
   "outputs": [],
   "source": [],
   "metadata": {
    "collapsed": false
   }
  }
 ],
 "metadata": {
  "kernelspec": {
   "display_name": "Python 3",
   "language": "python",
   "name": "python3"
  },
  "language_info": {
   "codemirror_mode": {
    "name": "ipython",
    "version": 2
   },
   "file_extension": ".py",
   "mimetype": "text/x-python",
   "name": "python",
   "nbconvert_exporter": "python",
   "pygments_lexer": "ipython2",
   "version": "2.7.6"
  }
 },
 "nbformat": 4,
 "nbformat_minor": 0
}
