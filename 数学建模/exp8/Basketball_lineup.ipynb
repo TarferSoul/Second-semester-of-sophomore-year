{
 "cells": [
  {
   "cell_type": "code",
   "execution_count": 1,
   "metadata": {
    "collapsed": true,
    "ExecuteTime": {
     "end_time": "2024-05-30T14:16:55.486962900Z",
     "start_time": "2024-05-30T14:16:54.791146700Z"
    }
   },
   "outputs": [
    {
     "name": "stdout",
     "output_type": "stream",
     "text": [
      "{'Gale': 'PF', 'Fred': 'PG', 'Head': 'SF', 'Doug': 'C', 'Chris': 'SG'}\n"
     ]
    }
   ],
   "source": [
    "import networkx as nx\n",
    "\n",
    "# 创建图\n",
    "B = nx.Graph()\n",
    "\n",
    "# PG（组织后卫1），SG（得分后卫2），SF（小前锋3），PF（大前锋4），C（中锋5）\n",
    "players = [\"Allen\", \"Bob\", \"Chris\", \"Doug\", \"Eric\", \"Fred\", \"Gale\", \"Head\"]\n",
    "positions = [\"PG\", \"SG\", \"SF\", \"PF\", \"C\"]\n",
    "\n",
    "B.add_nodes_from(players, bipartite=0)\n",
    "B.add_nodes_from(positions, bipartite=1)\n",
    "\n",
    "# 添加边\n",
    "edges = [(\"Allen\", \"PG\"), (\"Allen\", \"SG\"), (\"Bob\", \"PG\"), (\"Chris\", \"PG\"), (\"Chris\", \"SG\"),\n",
    "         (\"Doug\", \"SF\"), (\"Doug\", \"PF\"), (\"Doug\", \"C\"), (\"Eric\", \"SG\"), (\"Fred\", \"PG\"),\n",
    "         (\"Gale\", \"SF\"), (\"Gale\", \"PF\"), (\"Head\", \"SG\"), (\"Head\", \"SF\")]\n",
    "\n",
    "B.add_edges_from(edges)\n",
    "\n",
    "# 求最大匹配\n",
    "matching = nx.bipartite.maximum_matching(B)\n",
    "\n",
    "# 只输出球员到位置的匹配\n",
    "final_matching = {player: position for player, position in matching.items() if player in players}\n",
    "print(final_matching)\n"
   ]
  },
  {
   "cell_type": "code",
   "execution_count": null,
   "outputs": [],
   "source": [],
   "metadata": {
    "collapsed": false
   }
  }
 ],
 "metadata": {
  "kernelspec": {
   "display_name": "Python 3",
   "language": "python",
   "name": "python3"
  },
  "language_info": {
   "codemirror_mode": {
    "name": "ipython",
    "version": 2
   },
   "file_extension": ".py",
   "mimetype": "text/x-python",
   "name": "python",
   "nbconvert_exporter": "python",
   "pygments_lexer": "ipython2",
   "version": "2.7.6"
  }
 },
 "nbformat": 4,
 "nbformat_minor": 0
}
