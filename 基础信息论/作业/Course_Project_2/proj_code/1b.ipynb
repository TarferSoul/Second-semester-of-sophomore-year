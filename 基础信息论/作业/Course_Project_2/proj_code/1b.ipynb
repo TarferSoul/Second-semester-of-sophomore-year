{
 "cells": [
  {
   "cell_type": "code",
   "execution_count": 1,
   "outputs": [],
   "source": [
    "import math\n",
    "from collections import Counter, defaultdict\n",
    "import string\n",
    "import heapq"
   ],
   "metadata": {
    "collapsed": false,
    "ExecuteTime": {
     "end_time": "2024-06-09T05:33:46.780306400Z",
     "start_time": "2024-06-09T05:33:46.768082800Z"
    }
   }
  },
  {
   "cell_type": "code",
   "execution_count": 2,
   "metadata": {
    "collapsed": true,
    "ExecuteTime": {
     "end_time": "2024-06-09T05:33:46.794364400Z",
     "start_time": "2024-06-09T05:33:46.781306300Z"
    }
   },
   "outputs": [],
   "source": [
    "# 统计字母、标点符号和空格的频率\n",
    "def collect_statistics(text):\n",
    "    letters_and_punctuation = string.ascii_letters + string.punctuation + ' '\n",
    "    filtered_text = [char for char in text if char in letters_and_punctuation]\n",
    "    char_count = Counter(filtered_text)\n",
    "    total_chars = sum(char_count.values())\n",
    "    return char_count, total_chars"
   ]
  },
  {
   "cell_type": "code",
   "execution_count": 3,
   "outputs": [
    {
     "name": "stdout",
     "output_type": "stream",
     "text": [
      "Counter({' ': 2228, 'e': 1074, 't': 906, 'o': 768, 'a': 741, 'n': 588, 'i': 526, 'r': 493, 's': 489, 'h': 434, 'd': 408, 'l': 397, 'u': 283, 'y': 252, 'w': 233, 'c': 215, 'm': 205, 'g': 205, 'f': 203, 'p': 179, '.': 142, 'b': 121, 'I': 116, 'v': 115, ',': 101, 'k': 63, \"'\": 40, 'A': 31, 'T': 22, 'S': 22, 'x': 13, '\"': 12, 'W': 12, 'M': 11, 'B': 11, 'N': 9, '-': 9, ':': 9, 'D': 9, 'j': 8, 'H': 6, 'R': 5, 'E': 5, 'L': 5, 'Y': 5, 'C': 4, 'q': 4, '?': 4, 'O': 4, 'z': 4, 'P': 4, 'X': 3, 'F': 3, ';': 2, 'K': 2, 'G': 2, 'J': 1, '$': 1})\n"
     ]
    }
   ],
   "source": [
    "file_path = 'Steve_Jobs_Speech.txt'\n",
    "with open(file_path, 'r', encoding='utf-8') as f:\n",
    "    speech_text = f.read()\n",
    "Text_stats, total = collect_statistics(speech_text)\n",
    "print(Text_stats)"
   ],
   "metadata": {
    "collapsed": false,
    "ExecuteTime": {
     "end_time": "2024-06-09T05:33:46.833274800Z",
     "start_time": "2024-06-09T05:33:46.796765700Z"
    }
   }
  },
  {
   "cell_type": "code",
   "execution_count": 4,
   "outputs": [],
   "source": [
    "def calculate_entropy(filtered_text, order=0):\n",
    "\n",
    "    if order == 0:\n",
    "        # 0阶马尔可夫模型：每个字符独立选择\n",
    "        char_count = Counter(filtered_text)\n",
    "        total_chars = sum(char_count.values())\n",
    "        entropy = 0\n",
    "        for count in char_count.values():\n",
    "            probability = count / total_chars\n",
    "            entropy -= probability * math.log2(probability)\n",
    "        return entropy\n",
    "    else:\n",
    "        # 高阶马尔可夫模型\n",
    "        storage = defaultdict(Counter)\n",
    "        total_ngrams = 0\n",
    "\n",
    "        for i in range(len(filtered_text) - order):\n",
    "            prefix = filtered_text[i:i + order]\n",
    "            next_char = filtered_text[i + order]\n",
    "            storage[prefix][next_char] += 1\n",
    "            total_ngrams += 1\n",
    "\n",
    "        entropy = 0\n",
    "        for prefix, suffix_counts in storage.items():\n",
    "            prefix_total = sum(suffix_counts.values())\n",
    "            for count in suffix_counts.values():\n",
    "                probability = count / prefix_total\n",
    "                entropy -= (prefix_total / total_ngrams) * probability * math.log2(probability)\n",
    "\n",
    "        return entropy"
   ],
   "metadata": {
    "collapsed": false,
    "ExecuteTime": {
     "end_time": "2024-06-09T05:33:46.843274800Z",
     "start_time": "2024-06-09T05:33:46.813269800Z"
    }
   }
  },
  {
   "cell_type": "code",
   "execution_count": 5,
   "outputs": [
    {
     "name": "stdout",
     "output_type": "stream",
     "text": [
      "Text Entropy (0th order): 4.387751803302527\n",
      "Text Entropy (3rd order): 1.3723414914875431\n",
      "Text Entropy (5th order): 0.4880994556315586\n"
     ]
    }
   ],
   "source": [
    "Text_entropy_0 = calculate_entropy(speech_text, 0)\n",
    "Text_entropy_3 = calculate_entropy(speech_text, 3)\n",
    "Text_entropy_5 = calculate_entropy(speech_text, 5)\n",
    "\n",
    "print(f\"Text Entropy (0th order): {Text_entropy_0}\")\n",
    "print(f\"Text Entropy (3rd order): {Text_entropy_3}\")\n",
    "print(f\"Text Entropy (5th order): {Text_entropy_5}\")"
   ],
   "metadata": {
    "collapsed": false,
    "ExecuteTime": {
     "end_time": "2024-06-09T05:33:46.890275500Z",
     "start_time": "2024-06-09T05:33:46.833274800Z"
    }
   }
  },
  {
   "cell_type": "code",
   "execution_count": 6,
   "outputs": [],
   "source": [
    "# Shannon编码\n",
    "def calculate_shannon_codes(frequencies, total_chars):\n",
    "    codes = {}\n",
    "    probabilities = {char: freq / total_chars for char, freq in frequencies.items()}\n",
    "    sorted_chars = sorted(probabilities.items(), key=lambda item: item[1], reverse=True)\n",
    "    cumulative_prob = 0.0\n",
    "    for char, prob in sorted_chars:\n",
    "        code_length = math.ceil(-math.log2(prob))\n",
    "        cumulative_prob_bin = bin(int(cumulative_prob * (1 << code_length)))[2:].zfill(code_length)\n",
    "        codes[char] = cumulative_prob_bin[:code_length]\n",
    "        cumulative_prob += prob\n",
    "    return codes"
   ],
   "metadata": {
    "collapsed": false,
    "ExecuteTime": {
     "end_time": "2024-06-09T05:33:46.899277300Z",
     "start_time": "2024-06-09T05:33:46.861274800Z"
    }
   }
  },
  {
   "cell_type": "code",
   "execution_count": 7,
   "outputs": [],
   "source": [
    "# Huffman编码\n",
    "class QaryHuffmanNode:\n",
    "    # 定义节点\n",
    "    def __init__(self, symbol=None, frequency=0):\n",
    "        self.symbol = symbol\n",
    "        self.frequency = frequency\n",
    "        self.children = []\n",
    "\n",
    "    def __lt__(self, other):\n",
    "        return self.frequency < other.frequency\n",
    "\n",
    "def qary_huffman_code(symbols, frequencies, Q):\n",
    "    # 将所有节点压入堆中\n",
    "    heap = [QaryHuffmanNode(symbol=symbol, frequency=freq) for symbol, freq in zip(symbols, frequencies)]\n",
    "    heapq.heapify(heap)\n",
    "\n",
    "    # 转换最小堆\n",
    "    while len(heap) > 1:\n",
    "        children = [heapq.heappop(heap) for _ in range(min(Q, len(heap)))]\n",
    "        parent_frequency = sum(child.frequency for child in children)\n",
    "        parent_node = QaryHuffmanNode(frequency=parent_frequency)\n",
    "        parent_node.children.extend(children)\n",
    "        heapq.heappush(heap, parent_node)\n",
    "\n",
    "    # 递归编码\n",
    "    def build_code(node, prefix, code):\n",
    "        if node.symbol is not None:\n",
    "            code[node.symbol] = prefix\n",
    "        else:\n",
    "            for i, child in enumerate(node.children):\n",
    "                build_code(child, prefix + str(i), code)\n",
    "\n",
    "    root = heap[0]\n",
    "    code = {}\n",
    "    build_code(root, \"\", code)\n",
    "    return code\n",
    "\n",
    "def generate_qary_huffman_code(counter, Q):\n",
    "    symbols = list(counter.keys())\n",
    "    frequencies = list(counter.values())\n",
    "    return qary_huffman_code(symbols, frequencies, Q)\n"
   ],
   "metadata": {
    "collapsed": false,
    "ExecuteTime": {
     "end_time": "2024-06-09T05:33:46.899277300Z",
     "start_time": "2024-06-09T05:33:46.878274800Z"
    }
   }
  },
  {
   "cell_type": "code",
   "execution_count": 8,
   "outputs": [],
   "source": [
    "Q = 3\n",
    "huffman_codes = generate_qary_huffman_code(Text_stats, Q)\n",
    "shannon_codes = calculate_shannon_codes(Text_stats, total)"
   ],
   "metadata": {
    "collapsed": false,
    "ExecuteTime": {
     "end_time": "2024-06-09T05:33:46.909547600Z",
     "start_time": "2024-06-09T05:33:46.891275800Z"
    }
   }
  },
  {
   "cell_type": "code",
   "execution_count": 12,
   "outputs": [
    {
     "name": "stdout",
     "output_type": "stream",
     "text": [
      "{'l': '000', 'd': '001', 'h': '002', '.': '0100', \"'\": '01010', 'Y': '0101100', 'L': '0101101', 'E': '0101102', 'H': '0101110', 'K': '01011110', ';': '01011111', 'F': '01011112', 'j': '0101112', 'T': '010112', 'k': '01012', 'p': '0102', 's': '011', 'r': '012', 'i': '020', 'n': '021', 'f': '0220', 'g': '0221', 'm': '0222', 'c': '1000', 'w': '1001', 'y': '1002', 'a': '101', 'o': '102', ' ': '11', 't': '120', 'u': '1210', 'S': '121100', 'N': '1211010', 'D': '1211011', ':': '1211012', 'A': '121102', ',': '12111', '-': '1211200', 'X': '12112010', 'C': '12112011', 'J': '121120120', '$': '121120121', 'G': '121120122', 'B': '1211202', 'M': '1211210', 'W': '1211211', '\"': '1211212', 'P': '12112200', 'z': '12112201', 'O': '12112202', '?': '12112210', 'q': '12112211', 'R': '12112212', 'x': '1211222', 'v': '12120', 'I': '12121', 'b': '12122', 'e': '122'}\n"
     ]
    }
   ],
   "source": [
    "print(huffman_codes)"
   ],
   "metadata": {
    "collapsed": false,
    "ExecuteTime": {
     "end_time": "2024-06-09T05:35:01.617216700Z",
     "start_time": "2024-06-09T05:35:01.601713200Z"
    }
   }
  },
  {
   "cell_type": "code",
   "execution_count": 10,
   "outputs": [
    {
     "name": "stdout",
     "output_type": "stream",
     "text": [
      "Shannon Code Average Length: 4.7386759581881535\n",
      "3-array Huffman Code Average Length: 3.1479561485510326\n"
     ]
    }
   ],
   "source": [
    "# 计算平均码长\n",
    "def calculate_average_code_length(codes, frequencies):\n",
    "    total_length = sum(len(code) * freq for char, code in codes.items() for freq in [frequencies[char]])\n",
    "    total_symbols = sum(frequencies.values())\n",
    "    average_length = total_length / total_symbols\n",
    "    return average_length\n",
    "\n",
    "average_length_shannon = calculate_average_code_length(shannon_codes, Text_stats)\n",
    "average_length_huffman = calculate_average_code_length(huffman_codes, Text_stats)\n",
    "\n",
    "print(f\"Shannon Code Average Length: {average_length_shannon}\")\n",
    "print(f\"{Q}-array Huffman Code Average Length: {average_length_huffman}\")"
   ],
   "metadata": {
    "collapsed": false,
    "ExecuteTime": {
     "end_time": "2024-06-09T05:33:46.956429400Z",
     "start_time": "2024-06-09T05:33:46.924453600Z"
    }
   }
  },
  {
   "cell_type": "code",
   "execution_count": 11,
   "outputs": [],
   "source": [
    "# 保存\n",
    "def save_codes_to_file(filename, codes):\n",
    "    with open(filename, 'w', encoding='utf-8') as f:\n",
    "        for char, code in codes.items():\n",
    "            f.write(f\"{char}: {code}\\n\")\n",
    "\n",
    "save_codes_to_file('shannon_codes.txt', shannon_codes)\n",
    "save_codes_to_file('huffman_codes.txt', huffman_codes)"
   ],
   "metadata": {
    "collapsed": false,
    "ExecuteTime": {
     "end_time": "2024-06-09T05:33:46.956429400Z",
     "start_time": "2024-06-09T05:33:46.944907900Z"
    }
   }
  }
 ],
 "metadata": {
  "kernelspec": {
   "display_name": "Python 3",
   "language": "python",
   "name": "python3"
  },
  "language_info": {
   "codemirror_mode": {
    "name": "ipython",
    "version": 2
   },
   "file_extension": ".py",
   "mimetype": "text/x-python",
   "name": "python",
   "nbconvert_exporter": "python",
   "pygments_lexer": "ipython2",
   "version": "2.7.6"
  }
 },
 "nbformat": 4,
 "nbformat_minor": 0
}
